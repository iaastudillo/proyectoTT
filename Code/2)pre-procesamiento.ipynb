{
 "metadata": {
  "language_info": {
   "codemirror_mode": {
    "name": "ipython",
    "version": 3
   },
   "file_extension": ".py",
   "mimetype": "text/x-python",
   "name": "python",
   "nbconvert_exporter": "python",
   "pygments_lexer": "ipython3",
   "version": "3.8.7"
  },
  "orig_nbformat": 2,
  "kernelspec": {
   "name": "python387jvsc74a57bd0f03681318767e8c7f0ee1f4187be77ee5eb34390383fcd091f017e2726964f48",
   "display_name": "Python 3.8.7 64-bit ('tesis_env': venv)"
  }
 },
 "nbformat": 4,
 "nbformat_minor": 2,
 "cells": [
  {
   "cell_type": "code",
   "execution_count": 2,
   "metadata": {},
   "outputs": [],
   "source": [
    "import pandas as pd # Para el manejo de los datos\n",
    "import re # Para expreciones regulares\n",
    "import spacy # Para realiar el proceso de lematización\n",
    "\n",
    "from unidecode import unidecode # Para eliminar acentos\n",
    "from nltk.tokenize import word_tokenize # Para dividir el texto en tokens\n",
    "from nltk.corpus import stopwords  # Para eliminar las palabras vacías\n",
    "from nltk.stem import SnowballStemmer  # Para realizar el proceso de Stemming"
   ]
  },
  {
   "source": [
    "## Se cargan los datos"
   ],
   "cell_type": "markdown",
   "metadata": {}
  },
  {
   "cell_type": "code",
   "execution_count": 3,
   "metadata": {},
   "outputs": [],
   "source": [
    "df = pd.read_csv('Data/datos_clasificados_persona.csv', sep=';', encoding='utf-8')"
   ]
  },
  {
   "source": [
    "## Se convierte el texto a minúsculas"
   ],
   "cell_type": "markdown",
   "metadata": {}
  },
  {
   "cell_type": "code",
   "execution_count": 4,
   "metadata": {},
   "outputs": [],
   "source": [
    "df['minusculas'] = df['MENSAJES'].str.lower()"
   ]
  },
  {
   "source": [
    "## Se eliminan los signos de puntuación y los acentos"
   ],
   "cell_type": "markdown",
   "metadata": {}
  },
  {
   "cell_type": "code",
   "execution_count": 5,
   "metadata": {},
   "outputs": [],
   "source": [
    "reg_signos = re.compile('[^\\w\\s]')\n",
    "df['puntuacion'] = df['minusculas'].replace(reg_signos, '')\n",
    "df['acentos'] = df['puntuacion'].apply(unidecode)"
   ]
  },
  {
   "source": [
    "## Se covierte el texto en tokens"
   ],
   "cell_type": "markdown",
   "metadata": {}
  },
  {
   "cell_type": "code",
   "execution_count": 6,
   "metadata": {},
   "outputs": [],
   "source": [
    "df['tokens'] = df['acentos'].apply(word_tokenize)"
   ]
  },
  {
   "cell_type": "code",
   "execution_count": 7,
   "metadata": {},
   "outputs": [
    {
     "output_type": "execute_result",
     "data": {
      "text/plain": [
       "['por',\n",
       " 'favor',\n",
       " 'pongamos',\n",
       " 'en',\n",
       " 'la',\n",
       " 'portada',\n",
       " 'algo',\n",
       " 'que',\n",
       " 'tenga',\n",
       " 'relacion',\n",
       " 'con',\n",
       " 'la',\n",
       " 'asignatura']"
      ]
     },
     "metadata": {},
     "execution_count": 7
    }
   ],
   "source": [
    "df['tokens'][0]"
   ]
  },
  {
   "source": [
    "## Se eliminan las palabras vacias "
   ],
   "cell_type": "markdown",
   "metadata": {}
  },
  {
   "cell_type": "code",
   "execution_count": 8,
   "metadata": {},
   "outputs": [],
   "source": [
    "stop_words = set(stopwords.words('spanish'))\n",
    "stop_words.add('tal')\n",
    "df['stopwords'] = df['tokens'].apply(lambda x: [item for item in x if item not in stop_words])  "
   ]
  },
  {
   "cell_type": "code",
   "execution_count": 9,
   "metadata": {},
   "outputs": [
    {
     "output_type": "execute_result",
     "data": {
      "text/plain": [
       "['gusta', 'esperemos', 'haber', 'dicen', 'companeros', 'equipo']"
      ]
     },
     "metadata": {},
     "execution_count": 9
    }
   ],
   "source": [
    "df['stopwords'][2]"
   ]
  },
  {
   "source": [
    "## Se lematiza el texto"
   ],
   "cell_type": "markdown",
   "metadata": {}
  },
  {
   "cell_type": "code",
   "execution_count": 10,
   "metadata": {},
   "outputs": [],
   "source": [
    "nlp = spacy.load('es_core_news_sm')\n",
    "\n",
    "def lemmatizer(text):  \n",
    "  doc = nlp(str(text))\n",
    "  return ' '.join([word.lemma_ for word in doc])\n",
    "\n",
    "df['lemas'] = df['stopwords'].apply(lambda x: lemmatizer(x))\n",
    "df['lemas'] = df['lemas'].replace(reg_signos, '')\n",
    "df['lemas'] = df['lemas'].apply(word_tokenize)"
   ]
  },
  {
   "cell_type": "code",
   "execution_count": 11,
   "metadata": {},
   "outputs": [
    {
     "output_type": "execute_result",
     "data": {
      "text/plain": [
       "['gustar', 'esperemos', 'haber', 'decir', 'companero', 'equipo']"
      ]
     },
     "metadata": {},
     "execution_count": 11
    }
   ],
   "source": [
    "df['lemas'][2]"
   ]
  },
  {
   "source": [
    "## Se realiza el proceso de Stemming"
   ],
   "cell_type": "markdown",
   "metadata": {}
  },
  {
   "cell_type": "code",
   "execution_count": 12,
   "metadata": {},
   "outputs": [],
   "source": [
    "spanishstemmer = SnowballStemmer('spanish')\n",
    "df['stemming'] = df['lemas'].apply(lambda tokens: [spanishstemmer.stem(token) for token in tokens])"
   ]
  },
  {
   "source": [
    "## Se eliminan las filas que quedaron vacías"
   ],
   "cell_type": "markdown",
   "metadata": {}
  },
  {
   "cell_type": "code",
   "execution_count": 13,
   "metadata": {},
   "outputs": [],
   "source": [
    "i = 0\n",
    "for texto in df['stemming']:\n",
    "    if len(texto) == 0:\n",
    "       df = df.drop([i], axis=0)\n",
    "    i += 1\n",
    "df = df.reset_index(drop=True)"
   ]
  },
  {
   "cell_type": "code",
   "execution_count": 14,
   "metadata": {},
   "outputs": [
    {
     "output_type": "execute_result",
     "data": {
      "text/plain": [
       "['buen', 'tard', 'imag', 'companer', 'algun', 'sugerent']"
      ]
     },
     "metadata": {},
     "execution_count": 14
    }
   ],
   "source": [
    "df['stemming'][1]"
   ]
  },
  {
   "source": [
    "## Se guarda el texto proceso en un archivo csv"
   ],
   "cell_type": "markdown",
   "metadata": {}
  },
  {
   "cell_type": "code",
   "execution_count": 15,
   "metadata": {},
   "outputs": [],
   "source": [
    "df_procesado = pd.DataFrame()\n",
    "texto = [' '.join(texto) for texto in df['stemming']]\n",
    "df_procesado['MENSAJES'] = texto\n",
    "df_procesado['POLARIDAD'] = df['POLARIDAD']\n",
    "df_procesado.to_csv('Data_procesada/datos_procesados.csv', sep=';', index=None)"
   ]
  }
 ]
}